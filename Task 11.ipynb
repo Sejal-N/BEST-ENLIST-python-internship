{
 "cells": [
  {
   "cell_type": "markdown",
   "metadata": {},
   "source": [
    "# EXERCISE"
   ]
  },
  {
   "cell_type": "markdown",
   "metadata": {},
   "source": [
    "Q1) Write a program using zip() function and list() function, create a\n",
    "merged list of tuples from the two lists given."
   ]
  },
  {
   "cell_type": "code",
   "execution_count": 7,
   "metadata": {},
   "outputs": [
    {
     "name": "stdout",
     "output_type": "stream",
     "text": [
      "List 1 = [1, 2, 3]\n",
      "List 2 = [4, 5, 6]\n",
      "[(1, 4), (2, 5), (3, 6)]\n"
     ]
    }
   ],
   "source": [
    "l1 = [1, 2, 3]\n",
    "l2 = [4, 5, 6]\n",
    "print(\"List 1 =\",l1)\n",
    "print(\"List 2 =\",l2)\n",
    "l = list(zip(l1, l2))\n",
    "print(l)"
   ]
  },
  {
   "cell_type": "markdown",
   "metadata": {},
   "source": [
    "Q2) First create a range from 1 to 8. Then using zip, merge the given list\n",
    "and the range together to create a new list of tuples."
   ]
  },
  {
   "cell_type": "code",
   "execution_count": 8,
   "metadata": {},
   "outputs": [
    {
     "name": "stdout",
     "output_type": "stream",
     "text": [
      "List : ['Blue', 'Red', 'black', 'White']\n",
      "[(1, 'Blue'), (2, 'Red'), (3, 'black'), (4, 'White')]\n"
     ]
    }
   ],
   "source": [
    "range1 = list(range(1,8))\n",
    "list1 = [\"Blue\",\"Red\",\"black\",\"White\"]\n",
    "print(\"List :\",list1)\n",
    "x = list(zip(range1,list1))\n",
    "print(x)"
   ]
  },
  {
   "cell_type": "markdown",
   "metadata": {},
   "source": [
    "Q3) Using sorted() function, sort the list in ascending order."
   ]
  },
  {
   "cell_type": "code",
   "execution_count": 11,
   "metadata": {},
   "outputs": [
    {
     "name": "stdout",
     "output_type": "stream",
     "text": [
      "List = [107, 98, 3, 17, 28, 45, 65, 59, 72, 87]\n",
      "Sorted List = [3, 17, 28, 45, 59, 65, 72, 87, 98, 107]\n"
     ]
    }
   ],
   "source": [
    "L = [107,98,3,17,28,45,65,59,72,87]\n",
    "print(\"List =\",L)\n",
    "print(\"Sorted List =\",sorted(L))"
   ]
  },
  {
   "cell_type": "markdown",
   "metadata": {},
   "source": [
    "Q4) Write a program using filter function, filter the even numbers so that\n",
    "only odd numbers are passed to the new list."
   ]
  },
  {
   "cell_type": "code",
   "execution_count": 18,
   "metadata": {},
   "outputs": [
    {
     "name": "stdout",
     "output_type": "stream",
     "text": [
      "Old list = [0, 1, 2, 3, 4, 5, 9, 17, 15]\n",
      "New list [1, 3, 5, 9, 17, 15]\n"
     ]
    }
   ],
   "source": [
    "oldlist = [0, 1, 2, 3, 4, 5,9,17,15]\n",
    "print(\"Old list =\",oldlist)\n",
    "result = filter(lambda x: x % 2,oldlist)\n",
    "print(\"New list\",list(result))"
   ]
  },
  {
   "cell_type": "code",
   "execution_count": null,
   "metadata": {},
   "outputs": [],
   "source": []
  }
 ],
 "metadata": {
  "kernelspec": {
   "display_name": "Python 3",
   "language": "python",
   "name": "python3"
  },
  "language_info": {
   "codemirror_mode": {
    "name": "ipython",
    "version": 3
   },
   "file_extension": ".py",
   "mimetype": "text/x-python",
   "name": "python",
   "nbconvert_exporter": "python",
   "pygments_lexer": "ipython3",
   "version": "3.8.5"
  }
 },
 "nbformat": 4,
 "nbformat_minor": 4
}
