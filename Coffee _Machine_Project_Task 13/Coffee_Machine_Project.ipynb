{
 "cells": [
  {
   "cell_type": "code",
   "execution_count": 7,
   "metadata": {},
   "outputs": [
    {
     "name": "stdout",
     "output_type": "stream",
     "text": [
      "importing Jupyter notebook from menu.ipynb\n",
      "importing Jupyter notebook from coffee_maker.ipynb\n",
      "importing Jupyter notebook from money_machine.ipynb\n",
      "What would you like? (latte/espresso/cappuccino/): cappuccino\n",
      "Please insert coins.\n",
      "How many quarters?: 3\n",
      "How many dimes?: 2\n",
      "How many nickles?: 4\n",
      "How many pennies?: 5\n",
      "Sorry that's not enough money. Money refunded.\n",
      "What would you like? (latte/espresso/cappuccino/): cappuccino\n",
      "Please insert coins.\n",
      "How many quarters?: 5\n",
      "How many dimes?: 6\n",
      "How many nickles?: 7\n",
      "How many pennies?: 8\n",
      "Here is $0.48 in change.\n",
      "Here is your cappuccino ☕️. Enjoy!\n",
      "What would you like? (latte/espresso/cappuccino/): espresso\n",
      "Please insert coins.\n",
      "How many quarters?: 8\n",
      "How many dimes?: 7\n",
      "How many nickles?: 6\n",
      "How many pennies?: 5\n",
      "Here is $5.03 in change.\n",
      "Here is your espresso ☕️. Enjoy!\n",
      "What would you like? (latte/espresso/cappuccino/): latte\n",
      "Sorry there is not enough water.\n",
      "What would you like? (latte/espresso/cappuccino/): report\n",
      "Water: 0ml\n",
      "Milk: 150ml\n",
      "Coffee: 58g\n",
      "Money: $4.5\n",
      "What would you like? (latte/espresso/cappuccino/): off\n"
     ]
    }
   ],
   "source": [
    "import import_ipynb\n",
    "from menu import Menu, MenuItem\n",
    "from coffee_maker import CoffeeMaker\n",
    "from money_machine import MoneyMachine\n",
    "\n",
    "will_continue = True\n",
    "menu = Menu()\n",
    "name = menu.get_items()\n",
    "money_machine = MoneyMachine()\n",
    "coffee_maker = CoffeeMaker()\n",
    "while will_continue:\n",
    "    choice = input(f\"What would you like? ({name}): \").lower()\n",
    "    if choice == \"off\":\n",
    "        will_continue = False\n",
    "    elif choice == \"report\":\n",
    "        coffee_maker.report()\n",
    "        money_machine.report()\n",
    "    else:\n",
    "        drink = menu.find_drink(choice)\n",
    "        if coffee_maker.is_resource_sufficient(drink) and money_machine.make_payment(drink.cost):\n",
    "            coffee_maker.make_coffee(drink)\n"
   ]
  },
  {
   "cell_type": "code",
   "execution_count": null,
   "metadata": {},
   "outputs": [],
   "source": []
  },
  {
   "cell_type": "code",
   "execution_count": null,
   "metadata": {},
   "outputs": [],
   "source": []
  },
  {
   "cell_type": "code",
   "execution_count": null,
   "metadata": {},
   "outputs": [],
   "source": []
  },
  {
   "cell_type": "code",
   "execution_count": null,
   "metadata": {},
   "outputs": [],
   "source": []
  }
 ],
 "metadata": {
  "kernelspec": {
   "display_name": "Python 3",
   "language": "python",
   "name": "python3"
  },
  "language_info": {
   "codemirror_mode": {
    "name": "ipython",
    "version": 3
   },
   "file_extension": ".py",
   "mimetype": "text/x-python",
   "name": "python",
   "nbconvert_exporter": "python",
   "pygments_lexer": "ipython3",
   "version": "3.8.5"
  }
 },
 "nbformat": 4,
 "nbformat_minor": 4
}
