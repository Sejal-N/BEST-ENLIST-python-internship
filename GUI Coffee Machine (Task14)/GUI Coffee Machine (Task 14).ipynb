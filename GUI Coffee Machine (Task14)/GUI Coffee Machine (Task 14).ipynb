{
 "cells": [
  {
   "cell_type": "code",
   "execution_count": null,
   "metadata": {},
   "outputs": [],
   "source": [
    "from tkinter import *\n",
    "window = Tk()\n",
    "window.title(\"Coffee Machine\")\n",
    "L = Label(window, text = \"CCD Coffee Machine\",font=(\"Algerian\",22),fg = \"White\",bg = \"brown\").place(x=100,y=0)\n",
    "window.geometry(\"500x450\")\n",
    "L1 = Label(window, text = \"Welcome!\",font = (\"Brush Script Std\",20),fg=\"brown\").place(x=170,y=40)\n",
    "L2 = Label(window, text = \"What would you like to take ?\",font = (\"Clarendon Blk BT\",14),fg=\"black\").place(x=0,y=70)\n",
    "button1 = Button(window, text = \"LATTE\",font = (\"Bodoni MT\",12),fg=\"indigo\").place(x=80,y=100)\n",
    "button2 = Button(window, text = \"ESPREESO\",font = (\"Bodoni MT\",12),fg=\"blue\").place(x=150,y=100)\n",
    "button3 = Button(window, text = \"CAPPUCCINO\",font = (\"Bodoni MT\",12),fg=\"purple\").place(x=255,y=100)\n",
    "button4 = Button(window, text = \"OFF\",font = (\"Bodoni MT\",12),fg=\"black\",command=window.destroy).place(x=380,y=100)\n",
    "n1 = StringVar()\n",
    "n2 = StringVar()\n",
    "n3 = StringVar()\n",
    "n4 = StringVar()\n",
    "L3 = Label(window, text = \"How many coins ?\",font = (\"Clarendon Blk BT\",14),fg=\"black\").place(x=0,y=150)\n",
    "l1 = Label(window, text = \"How many quarters ?\",font = (\"Bodoni MT\",12),fg=\"black\").place(x=50,y=200)\n",
    "l2 = Label(window, text = \"How many dimes ?\",font = (\"Bodoni MT\",12),fg=\"black\").place(x=50,y=250)\n",
    "l3 = Label(window, text = \"How many nickles ?\",font = (\"Bodoni MT\",12),fg=\"black\").place(x=50,y=300)\n",
    "l4 = Label(window, text = \"How many pennies ?\",font = (\"Bodoni MT\",12),fg=\"black\").place(x=50,y=350)\n",
    "t1 = Spinbox(window, from_ = 0, to = 100).place(x=220,y=200)\n",
    "t2 = Spinbox(window, from_ = 0, to = 100).place(x=220,y=250)\n",
    "t3 = Spinbox(window, from_ = 0, to = 100).place(x=220,y=300)\n",
    "t4 = Spinbox(window, from_ = 0, to = 100) .place(x=220,y=350)\n",
    "\n",
    "button5 = Button(window, text = \"ENTER\",font = (\"Bodoni MT\",12),fg=\"green\").place(x=150,y=400)\n",
    "button6 = Button(window, text = \"CANCEL\",font = (\"Bodoni MT\",12),fg=\"red\",).place(x=300,y=400)\n",
    "window.mainloop()"
   ]
  },
  {
   "cell_type": "code",
   "execution_count": null,
   "metadata": {},
   "outputs": [],
   "source": []
  },
  {
   "cell_type": "code",
   "execution_count": null,
   "metadata": {},
   "outputs": [],
   "source": []
  }
 ],
 "metadata": {
  "kernelspec": {
   "display_name": "Python 3",
   "language": "python",
   "name": "python3"
  },
  "language_info": {
   "codemirror_mode": {
    "name": "ipython",
    "version": 3
   },
   "file_extension": ".py",
   "mimetype": "text/x-python",
   "name": "python",
   "nbconvert_exporter": "python",
   "pygments_lexer": "ipython3",
   "version": "3.8.5"
  }
 },
 "nbformat": 4,
 "nbformat_minor": 4
}
