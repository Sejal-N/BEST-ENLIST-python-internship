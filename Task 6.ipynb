{
 "cells": [
  {
   "cell_type": "markdown",
   "metadata": {},
   "source": [
    "EXERCISE :"
   ]
  },
  {
   "cell_type": "markdown",
   "metadata": {},
   "source": [
    "1) Write a program to loop through a list of numbers and add +2 to every value to elements in list"
   ]
  },
  {
   "cell_type": "code",
   "execution_count": 1,
   "metadata": {},
   "outputs": [
    {
     "name": "stdout",
     "output_type": "stream",
     "text": [
      "3\n",
      "4\n",
      "5\n",
      "6\n",
      "7\n"
     ]
    }
   ],
   "source": [
    "list = [1,2,3,4,5]\n",
    "for i in list:\n",
    "    print(i+2)"
   ]
  },
  {
   "cell_type": "markdown",
   "metadata": {},
   "source": [
    "2) Write a program to get the below pattern 54321 4321 321 21 1"
   ]
  },
  {
   "cell_type": "code",
   "execution_count": 5,
   "metadata": {},
   "outputs": [
    {
     "name": "stdout",
     "output_type": "stream",
     "text": [
      "54321\n",
      "4321\n",
      "321\n",
      "21\n",
      "1\n"
     ]
    }
   ],
   "source": [
    "for i in range(5,0,-1):\n",
    "    for j in range(i,0,-1):\n",
    "        print(j,end=\"\")\n",
    "    print()"
   ]
  },
  {
   "cell_type": "markdown",
   "metadata": {},
   "source": [
    "3) Python Program to Print the Fibonacci sequenc"
   ]
  },
  {
   "cell_type": "code",
   "execution_count": 8,
   "metadata": {},
   "outputs": [
    {
     "name": "stdout",
     "output_type": "stream",
     "text": [
      "How many terms :6\n",
      "Fibonacci sequence is :\n",
      "0\n",
      "1\n",
      "1\n",
      "2\n",
      "3\n",
      "5\n"
     ]
    }
   ],
   "source": [
    "nterms = (int(input(\"How many terms :\")))\n",
    "n1,n2 = 0,1\n",
    "count = 0\n",
    "if nterms <= 0:\n",
    "    print(\"Please enter a positive integer :\")\n",
    "elif nterms == 1:\n",
    "    print(\"Fibonacci sequence upto\",nterms,\":\")\n",
    "    print(n1)\n",
    "else:\n",
    "    print(\"Fibonacci sequence is :\")\n",
    "    while count< nterms:\n",
    "        print(n1)\n",
    "        nth = n1 + n2\n",
    "        n1 = n2\n",
    "        n2 = nth\n",
    "        count +=1"
   ]
  },
  {
   "cell_type": "markdown",
   "metadata": {},
   "source": [
    "4) Explain Armstrong number and write a code with a function"
   ]
  },
  {
   "cell_type": "code",
   "execution_count": 18,
   "metadata": {},
   "outputs": [
    {
     "name": "stdout",
     "output_type": "stream",
     "text": [
      "Armstrong number is a number that is equal to the sum of cubes of its digits.\n",
      "For example 0, 1, 153, 370, 371 and 407 are the Armstrong numbers.\n",
      "Enter a number :6789\n",
      "6789 is not an Armstrong number\n"
     ]
    }
   ],
   "source": [
    "print(\"Armstrong number is a number that is equal to the sum of cubes of its digits.\\n\"\\\n",
    "      \"For example 0, 1, 153, 370, 371 and 407 are the Armstrong numbers.\")\n",
    "num = int(input(\"Enter a number :\"))\n",
    "sum = 0\n",
    "temp = num\n",
    "while temp > 0:\n",
    "    digit = temp % 10\n",
    "    sum += digit ** 3\n",
    "    temp //= 10\n",
    "if num == sum:\n",
    "    print(num,\"is an Armstrong number\")\n",
    "else:\n",
    "    print(num,\"is not an Armstrong number\")\n"
   ]
  },
  {
   "cell_type": "markdown",
   "metadata": {},
   "source": [
    "5) Write a program to print the multiplication table of 9"
   ]
  },
  {
   "cell_type": "code",
   "execution_count": 1,
   "metadata": {},
   "outputs": [
    {
     "name": "stdout",
     "output_type": "stream",
     "text": [
      "9 x 1 = 9\n",
      "9 x 2 = 18\n",
      "9 x 3 = 27\n",
      "9 x 4 = 36\n",
      "9 x 5 = 45\n",
      "9 x 6 = 54\n",
      "9 x 7 = 63\n",
      "9 x 8 = 72\n",
      "9 x 9 = 81\n",
      "9 x 10 = 90\n"
     ]
    }
   ],
   "source": [
    "num = 9\n",
    "for i in range(1,11):\n",
    "    print(num,\"x\",i,\"=\",num*i)"
   ]
  },
  {
   "cell_type": "markdown",
   "metadata": {},
   "source": [
    "6) Check if a program is negative or positive"
   ]
  },
  {
   "cell_type": "code",
   "execution_count": 4,
   "metadata": {},
   "outputs": [
    {
     "name": "stdout",
     "output_type": "stream",
     "text": [
      "Enter a number :4\n",
      "4.0 is positive number\n"
     ]
    }
   ],
   "source": [
    "num = float(input(\"Enter a number :\"))\n",
    "if num > 0:\n",
    "    print(num,\"is positive number\")\n",
    "elif num == 0:\n",
    "    print(num,\"zero\")\n",
    "else:\n",
    "    print(num,\"is negative number\")"
   ]
  },
  {
   "cell_type": "markdown",
   "metadata": {},
   "source": [
    "7) Write a program to convert the number of days to ages"
   ]
  },
  {
   "cell_type": "code",
   "execution_count": 6,
   "metadata": {},
   "outputs": [
    {
     "name": "stdout",
     "output_type": "stream",
     "text": [
      "Number of Days :986\n",
      "Age is : 2.7013698630136984\n"
     ]
    }
   ],
   "source": [
    "days = int(input(\"Number of Days :\"))\n",
    "age = days/365\n",
    "print(\"Age is :\",age)"
   ]
  },
  {
   "cell_type": "markdown",
   "metadata": {},
   "source": [
    "8) Solve Trigonometry problem using math function write a program to solve using math function"
   ]
  },
  {
   "cell_type": "code",
   "execution_count": 16,
   "metadata": {},
   "outputs": [
    {
     "name": "stdout",
     "output_type": "stream",
     "text": [
      "Sin of pi/3 = 0.8660254037844386\n",
      "Tan of pi/3 = 1.7320508075688767\n",
      "Cos of pi/6 = 0.8660254037844387\n"
     ]
    }
   ],
   "source": [
    "import math\n",
    "\n",
    "print(\"Sin of pi/3 =\",math.sin(math.pi/3))\n",
    "print(\"Tan of pi/3 =\",math.tan(math.pi/3))\n",
    "print(\"Cos of pi/6 =\",math.cos(math.pi/6))"
   ]
  },
  {
   "cell_type": "markdown",
   "metadata": {},
   "source": [
    "9) Create a calculator only on a code level by using if condition (Basic arithmetic calculation"
   ]
  },
  {
   "cell_type": "code",
   "execution_count": 1,
   "metadata": {},
   "outputs": [
    {
     "name": "stdout",
     "output_type": "stream",
     "text": [
      "SIMPLE CALCULATOR\n",
      "Please select operation -\n",
      "1.Add\n",
      "2.Subtract\n",
      "3.Multiply\n",
      "4.Division\n",
      "\n",
      "Select the opertions from 1, 2, 3, 4 :3\n",
      "Selected opertion is = 3\n",
      "Enter first number :3\n",
      "First number = 3\n",
      "Enter second number :3\n",
      "Second number = 3\n",
      "3 * 3 = 9\n"
     ]
    }
   ],
   "source": [
    "print(\"SIMPLE CALCULATOR\")\n",
    "def add(num1,num2):\n",
    "    return num1 + num2\n",
    "def sub(num1,num2):\n",
    "    return num1 - num2\n",
    "def mul(num1,num2):\n",
    "    return num1 * num2\n",
    "def div(num1,num2):\n",
    "    return num1 / num2\n",
    "print(\"Please select operation -\\n\"\\\n",
    "        \"1.Add\\n\"\\\n",
    "        \"2.Subtract\\n\"\\\n",
    "        \"3.Multiply\\n\"\\\n",
    "        \"4.Division\\n\")\n",
    "Op = int(input(\"Select the opertions from 1, 2, 3, 4 :\"))\n",
    "print(\"Selected opertion is =\",Op)\n",
    "Num1 = int(input(\"Enter first number :\"))\n",
    "print(\"First number =\",Num1)\n",
    "Num2 = int(input(\"Enter second number :\"))\n",
    "print(\"Second number =\",Num2)\n",
    "\n",
    "if Op==1:\n",
    "        print(Num1 ,\"+\", Num2 ,\"=\", add(Num1,Num2))\n",
    "elif Op==2:\n",
    "         print(Num1 ,\"-\", Num2 ,\"= \", sub(Num1,Num2))\n",
    "elif Op==3:\n",
    "         print(Num1 ,\"*\", Num2 ,\"=\", mul(Num1,Num2))\n",
    "elif Op==4:\n",
    "         print(Num1 ,\"/\", Num2 ,\"=\", div(Num1,Num2))\n",
    "else:\n",
    "         print(\"INVAILD INPUT\")"
   ]
  },
  {
   "cell_type": "code",
   "execution_count": null,
   "metadata": {},
   "outputs": [],
   "source": []
  }
 ],
 "metadata": {
  "kernelspec": {
   "display_name": "Python 3",
   "language": "python",
   "name": "python3"
  },
  "language_info": {
   "codemirror_mode": {
    "name": "ipython",
    "version": 3
   },
   "file_extension": ".py",
   "mimetype": "text/x-python",
   "name": "python",
   "nbconvert_exporter": "python",
   "pygments_lexer": "ipython3",
   "version": "3.8.5"
  }
 },
 "nbformat": 4,
 "nbformat_minor": 4
}
